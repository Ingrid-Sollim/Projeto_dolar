{
 "cells": [
  {
   "cell_type": "markdown",
   "metadata": {
    "application/vnd.databricks.v1+cell": {
     "cellMetadata": {
      "byteLimit": 2048000,
      "rowLimit": 10000
     },
     "inputWidgets": {},
     "nuid": "8c0a28eb-99d7-4766-b53a-43234df58aee",
     "showTitle": false,
     "title": ""
    }
   },
   "source": [
    "##Dolar Exchange Project<br/>\n"
   ]
  },
  {
   "cell_type": "markdown",
   "metadata": {
    "application/vnd.databricks.v1+cell": {
     "cellMetadata": {
      "byteLimit": 2048000,
      "rowLimit": 10000
     },
     "inputWidgets": {},
     "nuid": "fcbeb1c0-36e4-4724-8845-fbb7a33dbe8e",
     "showTitle": false,
     "title": ""
    }
   },
   "source": [
    "**1-API connection and extraction**"
   ]
  },
  {
   "cell_type": "code",
   "execution_count": 0,
   "metadata": {
    "application/vnd.databricks.v1+cell": {
     "cellMetadata": {
      "byteLimit": 2048000,
      "rowLimit": 10000
     },
     "inputWidgets": {},
     "nuid": "1625562c-e9e8-45e5-9eac-86c9fc185759",
     "showTitle": false,
     "title": ""
    }
   },
   "outputs": [
    {
     "output_type": "display_data",
     "data": {
      "text/html": [
       "<style scoped>\n",
       "  .ansiout {\n",
       "    display: block;\n",
       "    unicode-bidi: embed;\n",
       "    white-space: pre-wrap;\n",
       "    word-wrap: break-word;\n",
       "    word-break: break-all;\n",
       "    font-family: \"Source Code Pro\", \"Menlo\", monospace;;\n",
       "    font-size: 13px;\n",
       "    color: #555;\n",
       "    margin-left: 4px;\n",
       "    line-height: 19px;\n",
       "  }\n",
       "</style>"
      ]
     },
     "metadata": {
      "application/vnd.databricks.v1+output": {
       "arguments": {},
       "data": "",
       "errorSummary": "",
       "errorTraceType": null,
       "metadata": {},
       "type": "ipynbError"
      }
     },
     "output_type": "display_data"
    }
   ],
   "source": [
    "import pyspark\n",
    "import pandas as pd\n",
    "from datetime import datetime,timedelta,date\n",
    "import requests\n"
   ]
  },
  {
   "cell_type": "markdown",
   "metadata": {
    "application/vnd.databricks.v1+cell": {
     "cellMetadata": {
      "byteLimit": 2048000,
      "rowLimit": 10000
     },
     "inputWidgets": {},
     "nuid": "432a9de4-aca0-4643-8dfe-99411c205cb7",
     "showTitle": false,
     "title": ""
    }
   },
   "source": [
    "The date format to access a specific time period must be in the format MM-DD-YYYY. For more information on the API:\n",
    "[API documentation](https://olinda.bcb.gov.br/olinda/servico/PTAX/versao/v1/documentacao)"
   ]
  },
  {
   "cell_type": "markdown",
   "metadata": {
    "application/vnd.databricks.v1+cell": {
     "cellMetadata": {
      "byteLimit": 2048000,
      "rowLimit": 10000
     },
     "inputWidgets": {},
     "nuid": "2d47f97b-92a9-4577-aec1-370f7e7212f3",
     "showTitle": false,
     "title": ""
    }
   },
   "source": [
    "###Set the period parameters"
   ]
  },
  {
   "cell_type": "code",
   "execution_count": 0,
   "metadata": {
    "application/vnd.databricks.v1+cell": {
     "cellMetadata": {
      "byteLimit": 2048000,
      "rowLimit": 10000
     },
     "inputWidgets": {},
     "nuid": "b23b9338-718d-442e-8346-7ce14aa5488e",
     "showTitle": false,
     "title": ""
    }
   },
   "outputs": [],
   "source": [
    "#Date paramters\n",
    "todays_date = (date.today()).strftime(\"%m-%d-%Y\")\n",
    "yesterday = (date.today() - timedelta(days=1)).strftime(\"%m-%d-%Y\") #Today's date -1 day\n",
    "\n",
    "#print(yesterday)"
   ]
  },
  {
   "cell_type": "code",
   "execution_count": 0,
   "metadata": {
    "application/vnd.databricks.v1+cell": {
     "cellMetadata": {
      "byteLimit": 2048000,
      "rowLimit": 10000
     },
     "inputWidgets": {},
     "nuid": "09c5721e-53db-43bf-a330-c15e85c52d6e",
     "showTitle": false,
     "title": ""
    }
   },
   "outputs": [
    {
     "output_type": "stream",
     "name": "stdout",
     "output_type": "stream",
     "text": [
      "  cotacaoCompra cotacaoVenda          dataHoraCotacao\n0         5,166       5,1666  2023-10-09 13:22:11.067\n"
     ]
    }
   ],
   "source": [
    "# Get the CSV file from the URL\n",
    "#Previous Months\n",
    "#start_date=\"01-01-2023\"\n",
    "#end_date=\"09-30-2023\"\n",
    "#url = f\"https://olinda.bcb.gov.br/olinda/servico/PTAX/versao/v1/odata/CotacaoDolarPeriodo(dataInicial=@dataInicial,dataFinalCotacao=@dataFinalCotacao)?@dataInicial=%27{start_date}%27&@dataFinalCotacao=%27{end_date}%27&$top=9000&$format=text/csv&$select=cotacaoCompra,cotacaoVenda,dataHoraCotacao\"\n",
    "\n",
    "url = f\"https://olinda.bcb.gov.br/olinda/servico/PTAX/versao/v1/odata/CotacaoDolarPeriodo(dataInicial=@dataInicial,dataFinalCotacao=@dataFinalCotacao)?@dataInicial=%27{yesterday}%27&@dataFinalCotacao=%27{todays_date}%27&$top=9000&$format=text/csv&$select=cotacaoCompra,cotacaoVenda,dataHoraCotacao\"\n",
    "response = requests.get(url)\n",
    "\n",
    "# Check if the request was successful\n",
    "if response.status_code == 200:\n",
    "    # Read the CSV file directly from the URL using pandas\n",
    "    pandas_df = pd.read_csv(url)\n",
    "    print(pandas_df)\n",
    "\n",
    "else:\n",
    "    print(f\"Failed to retrieve data. Status code: {response.status_code}\")"
   ]
  },
  {
   "cell_type": "markdown",
   "metadata": {
    "application/vnd.databricks.v1+cell": {
     "cellMetadata": {
      "byteLimit": 2048000,
      "rowLimit": 10000
     },
     "inputWidgets": {},
     "nuid": "086eaf9f-9677-4f31-8a1c-2e28772ff164",
     "showTitle": false,
     "title": ""
    }
   },
   "source": [
    "When we try to convert a pandas dataframe to Spark dataframe, we run into the following error:\n",
    "- AttributeError: 'DataFrame' object has no attribute 'iteritems'\\\n",
    "This occurs because this method was removed in Pandas version 2.0.0. So I needed to use **items** instead."
   ]
  },
  {
   "cell_type": "code",
   "execution_count": 0,
   "metadata": {
    "application/vnd.databricks.v1+cell": {
     "cellMetadata": {
      "byteLimit": 2048000,
      "rowLimit": 10000
     },
     "inputWidgets": {},
     "nuid": "0c13b208-dc3c-46ee-8cf3-37725140489e",
     "showTitle": false,
     "title": ""
    }
   },
   "outputs": [],
   "source": [
    "pandas_df.iteritems = pandas_df.items"
   ]
  },
  {
   "cell_type": "code",
   "execution_count": 0,
   "metadata": {
    "application/vnd.databricks.v1+cell": {
     "cellMetadata": {
      "byteLimit": 2048000,
      "rowLimit": 10000
     },
     "inputWidgets": {},
     "nuid": "46cd9167-3e9d-414f-ac54-bc1f871db2a7",
     "showTitle": false,
     "title": ""
    }
   },
   "outputs": [
    {
     "output_type": "stream",
     "name": "stdout",
     "output_type": "stream",
     "text": [
      "/databricks/spark/python/pyspark/sql/pandas/conversion.py:437: UserWarning: createDataFrame attempted Arrow optimization because 'spark.sql.execution.arrow.pyspark.enabled' is set to true; however, failed by the reason below:\n  'DataFrame' object has no attribute 'iteritems'\nAttempting non-optimization as 'spark.sql.execution.arrow.pyspark.fallback.enabled' is set to true.\n  warn(msg)\n"
     ]
    },
    {
     "output_type": "display_data",
     "data": {
      "text/html": [
       "<style scoped>\n",
       "  .table-result-container {\n",
       "    max-height: 300px;\n",
       "    overflow: auto;\n",
       "  }\n",
       "  table, th, td {\n",
       "    border: 1px solid black;\n",
       "    border-collapse: collapse;\n",
       "  }\n",
       "  th, td {\n",
       "    padding: 5px;\n",
       "  }\n",
       "  th {\n",
       "    text-align: left;\n",
       "  }\n",
       "</style><div class='table-result-container'><table class='table-result'><thead style='background-color: white'><tr><th>cotacaoCompra</th><th>cotacaoVenda</th><th>dataHoraCotacao</th></tr></thead><tbody><tr><td>5,166</td><td>5,1666</td><td>2023-10-09 13:22:11.067</td></tr></tbody></table></div>"
      ]
     },
     "metadata": {
      "application/vnd.databricks.v1+output": {
       "addedWidgets": {},
       "aggData": [],
       "aggError": "",
       "aggOverflow": false,
       "aggSchema": [],
       "aggSeriesLimitReached": false,
       "aggType": "",
       "arguments": {},
       "columnCustomDisplayInfos": {},
       "data": [
        [
         "5,166",
         "5,1666",
         "2023-10-09 13:22:11.067"
        ]
       ],
       "datasetInfos": [],
       "dbfsResultPath": null,
       "isJsonSchema": true,
       "metadata": {},
       "overflow": false,
       "plotOptions": {
        "customPlotOptions": {},
        "displayType": "table",
        "pivotAggregation": null,
        "pivotColumns": null,
        "xColumns": null,
        "yColumns": null
       },
       "removedWidgets": [],
       "schema": [
        {
         "metadata": "{}",
         "name": "cotacaoCompra",
         "type": "\"string\""
        },
        {
         "metadata": "{}",
         "name": "cotacaoVenda",
         "type": "\"string\""
        },
        {
         "metadata": "{}",
         "name": "dataHoraCotacao",
         "type": "\"string\""
        }
       ],
       "type": "table"
      }
     },
     "output_type": "display_data"
    }
   ],
   "source": [
    "\n",
    "# Create a Spark DataFrame from the pandas DataFrame\n",
    "dolarspark_df = spark.createDataFrame(pandas_df)\n",
    "display(dolarspark_df.limit(10))"
   ]
  },
  {
   "cell_type": "markdown",
   "metadata": {
    "application/vnd.databricks.v1+cell": {
     "cellMetadata": {
      "byteLimit": 2048000,
      "rowLimit": 10000
     },
     "inputWidgets": {},
     "nuid": "deff1007-cfb8-4762-841c-eb4054ec238c",
     "showTitle": false,
     "title": ""
    }
   },
   "source": [
    "#2-Connection to ADLS"
   ]
  },
  {
   "cell_type": "code",
   "execution_count": 0,
   "metadata": {
    "application/vnd.databricks.v1+cell": {
     "cellMetadata": {
      "byteLimit": 2048000,
      "rowLimit": 10000
     },
     "inputWidgets": {},
     "nuid": "693d5b56-0f5d-427c-9676-680c66ba11ff",
     "showTitle": false,
     "title": ""
    }
   },
   "outputs": [],
   "source": [
    "#Create some widgets to safely store the information to our data lake\n",
    "dbutils.widgets.text(name=\"Storage_Account\",defaultValue=\"\")\n",
    "dbutils.widgets.text(name=\"Storage_Key\",defaultValue=\"\")\n",
    "dbutils.widgets.text(name=\"Storage_Scope\",defaultValue=\"\")"
   ]
  },
  {
   "cell_type": "code",
   "execution_count": 0,
   "metadata": {
    "application/vnd.databricks.v1+cell": {
     "cellMetadata": {
      "byteLimit": 2048000,
      "rowLimit": 10000
     },
     "inputWidgets": {},
     "nuid": "9df8ab57-292a-437e-bab0-7bc285f26d1e",
     "showTitle": false,
     "title": ""
    }
   },
   "outputs": [
    {
     "output_type": "stream",
     "name": "stdout",
     "output_type": "stream",
     "text": [
      "Mount point '/mnt/ingrid-sollim/' is already mounted.\n"
     ]
    }
   ],
   "source": [
    "#Acess the widgets to get our key and scope\n",
    "scope = dbutils.widgets.get(\"Storage_Scope\")\n",
    "key = dbutils.widgets.get(\"Storage_Key\")\n",
    "storageAccount = dbutils.widgets.get(\"Storage_Account\")\n",
    "containerName = \"ingrid-sollim\"\n",
    "mountpoint = \"/mnt/ingrid-sollim/\"\n",
    "storageEndpoint = f\"wasbs://{containerName}@{storageAccount}.blob.core.windows.net\" \n",
    "storageKey = dbutils.secrets.get(scope=scope,key=key)\n",
    "storageConn = f\"fs.azure.account.key.{storageAccount}.blob.core.windows.net\"\n",
    "\n",
    "try:\n",
    "    if not any(mount.mountPoint==mountpoint for mount in dbutils.fs.mounts()):\n",
    "        dbutils.fs.mount(\n",
    "        source = storageEndpoint,\n",
    "        mount_point = mountpoint,\n",
    "        extra_configs = {storageConn:storageKey}\n",
    "    )\n",
    "        print(f\"{mountpoint} has been mounted\")\n",
    "    else:\n",
    "        print(f\"Mount point '{mountpoint}' is already mounted.\")\n",
    "except Exception as e:\n",
    "    raise e  # Re-raise the exception if mounting fails"
   ]
  },
  {
   "cell_type": "code",
   "execution_count": 0,
   "metadata": {
    "application/vnd.databricks.v1+cell": {
     "cellMetadata": {
      "byteLimit": 2048000,
      "rowLimit": 10000
     },
     "inputWidgets": {},
     "nuid": "fa4b38c3-83a4-45ef-bfae-a02f424d874f",
     "showTitle": false,
     "title": ""
    }
   },
   "outputs": [],
   "source": [
    "\n",
    "path=mountpoint+f\"dolar/{todays_date}\"\n"
   ]
  },
  {
   "cell_type": "code",
   "execution_count": 0,
   "metadata": {
    "application/vnd.databricks.v1+cell": {
     "cellMetadata": {
      "byteLimit": 2048000,
      "implicitDf": true,
      "rowLimit": 10000
     },
     "inputWidgets": {},
     "nuid": "64ad4294-6fc6-4c6f-bba1-0337b717c344",
     "showTitle": false,
     "title": ""
    }
   },
   "outputs": [
    {
     "output_type": "display_data",
     "data": {
      "text/html": [
       "<style scoped>\n",
       "  .table-result-container {\n",
       "    max-height: 300px;\n",
       "    overflow: auto;\n",
       "  }\n",
       "  table, th, td {\n",
       "    border: 1px solid black;\n",
       "    border-collapse: collapse;\n",
       "  }\n",
       "  th, td {\n",
       "    padding: 5px;\n",
       "  }\n",
       "  th {\n",
       "    text-align: left;\n",
       "  }\n",
       "</style><div class='table-result-container'><table class='table-result'><thead style='background-color: white'><tr><th>key</th><th>value</th></tr></thead><tbody><tr><td>spark.sql.sources.commitProtocolClass</td><td>org.apache.spark.sql.execution.datasources.SQLHadoopMapReduceCommitProtocol</td></tr></tbody></table></div>"
      ]
     },
     "metadata": {
      "application/vnd.databricks.v1+output": {
       "addedWidgets": {},
       "aggData": [],
       "aggError": "",
       "aggOverflow": false,
       "aggSchema": [],
       "aggSeriesLimitReached": false,
       "aggType": "",
       "arguments": {},
       "columnCustomDisplayInfos": {},
       "data": [
        [
         "spark.sql.sources.commitProtocolClass",
         "org.apache.spark.sql.execution.datasources.SQLHadoopMapReduceCommitProtocol"
        ]
       ],
       "datasetInfos": [],
       "dbfsResultPath": null,
       "isJsonSchema": true,
       "metadata": {},
       "overflow": false,
       "plotOptions": {
        "customPlotOptions": {},
        "displayType": "table",
        "pivotAggregation": null,
        "pivotColumns": null,
        "xColumns": null,
        "yColumns": null
       },
       "removedWidgets": [],
       "schema": [
        {
         "metadata": "{}",
         "name": "key",
         "type": "\"string\""
        },
        {
         "metadata": "{}",
         "name": "value",
         "type": "\"string\""
        }
       ],
       "type": "table"
      }
     },
     "output_type": "display_data"
    }
   ],
   "source": [
    "%sql\n",
    "--Disable commit, start files and success files\n",
    "SET spark.sql.sources.commitProtocolClass=org.apache.spark.sql.execution.datasources.SQLHadoopMapReduceCommitProtocol;"
   ]
  },
  {
   "cell_type": "code",
   "execution_count": 0,
   "metadata": {
    "application/vnd.databricks.v1+cell": {
     "cellMetadata": {
      "byteLimit": 2048000,
      "rowLimit": 10000
     },
     "inputWidgets": {},
     "nuid": "1195047d-013a-4ad2-8d88-e220d40162f1",
     "showTitle": false,
     "title": ""
    }
   },
   "outputs": [],
   "source": [
    "#Save to datalake\n",
    "dolarspark_df.repartition(1).write.format(\"parquet\").option(\"header\",True).option(\"sep\",\";\").option(\"mode\", \"append\").save(path)"
   ]
  },
  {
   "cell_type": "code",
   "execution_count": 0,
   "metadata": {
    "application/vnd.databricks.v1+cell": {
     "cellMetadata": {
      "byteLimit": 2048000,
      "rowLimit": 10000
     },
     "inputWidgets": {},
     "nuid": "32752fe4-e9ae-4acd-b5d4-5670af51baf2",
     "showTitle": false,
     "title": ""
    }
   },
   "outputs": [
    {
     "output_type": "display_data",
     "data": {
      "text/html": [
       "<style scoped>\n",
       "  .table-result-container {\n",
       "    max-height: 300px;\n",
       "    overflow: auto;\n",
       "  }\n",
       "  table, th, td {\n",
       "    border: 1px solid black;\n",
       "    border-collapse: collapse;\n",
       "  }\n",
       "  th, td {\n",
       "    padding: 5px;\n",
       "  }\n",
       "  th {\n",
       "    text-align: left;\n",
       "  }\n",
       "</style><div class='table-result-container'><table class='table-result'><thead style='background-color: white'><tr><th>path</th><th>name</th><th>size</th><th>modificationTime</th></tr></thead><tbody><tr><td>dbfs:/mnt/ingrid-sollim/dolar/10-10-2023/_SUCCESS</td><td>_SUCCESS</td><td>0</td><td>1696901571000</td></tr><tr><td>dbfs:/mnt/ingrid-sollim/dolar/10-10-2023/_common_metadata</td><td>_common_metadata</td><td>651</td><td>1696901571000</td></tr><tr><td>dbfs:/mnt/ingrid-sollim/dolar/10-10-2023/_metadata</td><td>_metadata</td><td>1219</td><td>1696901570000</td></tr><tr><td>dbfs:/mnt/ingrid-sollim/dolar/10-10-2023/part-00000-a0bf2236-bddb-4327-ab22-9313819c8e95-c000.snappy.parquet</td><td>part-00000-a0bf2236-bddb-4327-ab22-9313819c8e95-c000.snappy.parquet</td><td>1294</td><td>1696901570000</td></tr></tbody></table></div>"
      ]
     },
     "metadata": {
      "application/vnd.databricks.v1+output": {
       "addedWidgets": {},
       "aggData": [],
       "aggError": "",
       "aggOverflow": false,
       "aggSchema": [],
       "aggSeriesLimitReached": false,
       "aggType": "",
       "arguments": {},
       "columnCustomDisplayInfos": {},
       "data": [
        [
         "dbfs:/mnt/ingrid-sollim/dolar/10-10-2023/_SUCCESS",
         "_SUCCESS",
         0,
         1696901571000
        ],
        [
         "dbfs:/mnt/ingrid-sollim/dolar/10-10-2023/_common_metadata",
         "_common_metadata",
         651,
         1696901571000
        ],
        [
         "dbfs:/mnt/ingrid-sollim/dolar/10-10-2023/_metadata",
         "_metadata",
         1219,
         1696901570000
        ],
        [
         "dbfs:/mnt/ingrid-sollim/dolar/10-10-2023/part-00000-a0bf2236-bddb-4327-ab22-9313819c8e95-c000.snappy.parquet",
         "part-00000-a0bf2236-bddb-4327-ab22-9313819c8e95-c000.snappy.parquet",
         1294,
         1696901570000
        ]
       ],
       "datasetInfos": [],
       "dbfsResultPath": null,
       "isJsonSchema": true,
       "metadata": {},
       "overflow": false,
       "plotOptions": {
        "customPlotOptions": {},
        "displayType": "table",
        "pivotAggregation": null,
        "pivotColumns": null,
        "xColumns": null,
        "yColumns": null
       },
       "removedWidgets": [],
       "schema": [
        {
         "metadata": "{}",
         "name": "path",
         "type": "\"string\""
        },
        {
         "metadata": "{}",
         "name": "name",
         "type": "\"string\""
        },
        {
         "metadata": "{}",
         "name": "size",
         "type": "\"long\""
        },
        {
         "metadata": "{}",
         "name": "modificationTime",
         "type": "\"long\""
        }
       ],
       "type": "table"
      }
     },
     "output_type": "display_data"
    }
   ],
   "source": [
    "display(dbutils.fs.ls(path))"
   ]
  },
  {
   "cell_type": "markdown",
   "metadata": {
    "application/vnd.databricks.v1+cell": {
     "cellMetadata": {
      "byteLimit": 2048000,
      "rowLimit": 10000
     },
     "inputWidgets": {},
     "nuid": "380b7374-8d4d-4748-a5ee-7818c99b0ed9",
     "showTitle": false,
     "title": ""
    }
   },
   "source": [
    "#Rename the file"
   ]
  },
  {
   "cell_type": "code",
   "execution_count": 0,
   "metadata": {
    "application/vnd.databricks.v1+cell": {
     "cellMetadata": {
      "byteLimit": 2048000,
      "rowLimit": 10000
     },
     "inputWidgets": {},
     "nuid": "0a12d962-3096-46c9-bac2-1db364d17072",
     "showTitle": false,
     "title": ""
    }
   },
   "outputs": [],
   "source": [
    "# Get the path to the first part file\n",
    "part_files = [file for file in dbutils.fs.ls(path) if file.name.startswith(\"part-00000\")]\n",
    "\n",
    "if part_files:\n",
    "    part_file_path = part_files[0].path\n",
    "    \n",
    "    # Extract the directory path (without the filename)\n",
    "    directory_path = \"/\".join(part_file_path.split(\"/\")[:-1])\n",
    "\n",
    "    # Construct the new path using the directory and the desired filename\n",
    "    new_file_path = f\"{directory_path}/{todays_date}.parquet\"\n",
    "\n",
    "    # Rename the file\n",
    "    dbutils.fs.mv(part_file_path, new_file_path)\n",
    "else:\n",
    "    print(\"No matching part file found.\")\n",
    "\n"
   ]
  },
  {
   "cell_type": "code",
   "execution_count": 0,
   "metadata": {
    "application/vnd.databricks.v1+cell": {
     "cellMetadata": {
      "byteLimit": 2048000,
      "rowLimit": 10000
     },
     "inputWidgets": {},
     "nuid": "8d03b521-2f9e-450c-bc7a-489fc1bc09fe",
     "showTitle": false,
     "title": ""
    }
   },
   "outputs": [
    {
     "output_type": "stream",
     "name": "stdout",
     "output_type": "stream",
     "text": [
      "/mnt/ingrid-sollim/ has been unmounted.\nOut[82]: True"
     ]
    }
   ],
   "source": [
    "dbutils.fs.unmount(mountpoint)"
   ]
  }
 ],
 "metadata": {
  "application/vnd.databricks.v1+notebook": {
   "dashboards": [],
   "language": "python",
   "notebookMetadata": {
    "mostRecentlyExecutedCommandWithImplicitDF": {
     "commandId": 2397293413316228,
     "dataframes": [
      "_sqldf"
     ]
    },
    "pythonIndentUnit": 4
   },
   "notebookName": "Dolar_note",
   "widgets": {
    "Storage_Account": {
     "currentValue": "datalakefabdeprojetos",
     "nuid": "be3d9a23-b698-40d5-bf01-eac83a52c812",
     "widgetInfo": {
      "widgetType": "text",
      "defaultValue": "",
      "label": null,
      "name": "Storage_Account",
      "options": {
       "widgetType": "text",
       "validationRegex": null
      }
     }
    },
    "Storage_Key": {
     "currentValue": "kv-ingrid-sollim",
     "nuid": "af8e40d5-317c-4726-b76e-349478795deb",
     "widgetInfo": {
      "widgetType": "text",
      "defaultValue": "",
      "label": null,
      "name": "Storage_Key",
      "options": {
       "widgetType": "text",
       "validationRegex": null
      }
     }
    },
    "Storage_Scope": {
     "currentValue": "Kv-fab-de-proj-dev",
     "nuid": "9d42aace-88e2-4669-8781-21062fdf29d0",
     "widgetInfo": {
      "widgetType": "text",
      "defaultValue": "",
      "label": null,
      "name": "Storage_Scope",
      "options": {
       "widgetType": "text",
       "validationRegex": null
      }
     }
    }
   }
  }
 },
 "nbformat": 4,
 "nbformat_minor": 0
}
