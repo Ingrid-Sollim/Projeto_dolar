{
 "cells": [
  {
   "cell_type": "markdown",
   "metadata": {
    "application/vnd.databricks.v1+cell": {
     "cellMetadata": {
      "byteLimit": 2048000,
      "rowLimit": 10000
     },
     "inputWidgets": {},
     "nuid": "8c0a28eb-99d7-4766-b53a-43234df58aee",
     "showTitle": false,
     "title": ""
    }
   },
   "source": [
    "#Dolar Exchange Project<br/>\n"
   ]
  },
  {
   "cell_type": "code",
   "execution_count": 0,
   "metadata": {
    "application/vnd.databricks.v1+cell": {
     "cellMetadata": {
      "byteLimit": 2048000,
      "rowLimit": 10000
     },
     "inputWidgets": {},
     "nuid": "1625562c-e9e8-45e5-9eac-86c9fc185759",
     "showTitle": false,
     "title": ""
    }
   },
   "outputs": [],
   "source": [
    "import pyspark\n",
    "import pandas as pd\n",
    "from datetime import datetime,timedelta,date\n",
    "import requests\n"
   ]
  },
  {
   "cell_type": "markdown",
   "metadata": {
    "application/vnd.databricks.v1+cell": {
     "cellMetadata": {
      "byteLimit": 2048000,
      "rowLimit": 10000
     },
     "inputWidgets": {},
     "nuid": "deff1007-cfb8-4762-841c-eb4054ec238c",
     "showTitle": false,
     "title": ""
    }
   },
   "source": [
    "##1-Connection to ADLS"
   ]
  },
  {
   "cell_type": "code",
   "execution_count": 0,
   "metadata": {
    "application/vnd.databricks.v1+cell": {
     "cellMetadata": {
      "byteLimit": 2048000,
      "rowLimit": 10000
     },
     "inputWidgets": {},
     "nuid": "126d1d2e-c9e5-44bb-9490-e2aeb710d246",
     "showTitle": false,
     "title": ""
    }
   },
   "outputs": [],
   "source": [
    "#Date paramters\n",
    "todays_date = (date.today()).strftime(\"%m-%d-%Y\")\n",
    "yesterday = (date.today() - timedelta(days=1)).strftime(\"%m-%d-%Y\") #Today's date -1 day"
   ]
  },
  {
   "cell_type": "code",
   "execution_count": 0,
   "metadata": {
    "application/vnd.databricks.v1+cell": {
     "cellMetadata": {
      "byteLimit": 2048000,
      "rowLimit": 10000
     },
     "inputWidgets": {},
     "nuid": "693d5b56-0f5d-427c-9676-680c66ba11ff",
     "showTitle": false,
     "title": ""
    }
   },
   "outputs": [],
   "source": [
    "#Create some widgets to safely store the information from our data lake\n",
    "dbutils.widgets.text(name=\"Storage_Account\",defaultValue=\"\")\n",
    "dbutils.widgets.text(name=\"Storage_Key\",defaultValue=\"\")\n",
    "dbutils.widgets.text(name=\"Storage_Scope\",defaultValue=\"\")"
   ]
  },
  {
   "cell_type": "code",
   "execution_count": 0,
   "metadata": {
    "application/vnd.databricks.v1+cell": {
     "cellMetadata": {
      "byteLimit": 2048000,
      "rowLimit": 10000
     },
     "inputWidgets": {},
     "nuid": "9df8ab57-292a-437e-bab0-7bc285f26d1e",
     "showTitle": false,
     "title": ""
    }
   },
   "outputs": [
    {
     "output_type": "stream",
     "name": "stdout",
     "output_type": "stream",
     "text": [
      "Mount point '/mnt/ingrid-sollim/' is already mounted.\n"
     ]
    }
   ],
   "source": [
    "#Acess the widgets to get our key and scope\n",
    "scope = dbutils.widgets.get(\"Storage_Scope\")\n",
    "key = dbutils.widgets.get(\"Storage_Key\")\n",
    "storageAccount = dbutils.widgets.get(\"Storage_Account\")\n",
    "containerName = \"ingrid-sollim\"\n",
    "mountpoint = \"/mnt/ingrid-sollim/\"\n",
    "storageEndpoint = f\"wasbs://{containerName}@{storageAccount}.blob.core.windows.net\" \n",
    "storageKey = dbutils.secrets.get(scope=scope,key=key)\n",
    "storageConn = f\"fs.azure.account.key.{storageAccount}.blob.core.windows.net\"\n",
    "\n",
    "try:\n",
    "    if not any(mount.mountPoint==mountpoint for mount in dbutils.fs.mounts()):\n",
    "        dbutils.fs.mount(\n",
    "        source = storageEndpoint,\n",
    "        mount_point = mountpoint,\n",
    "        extra_configs = {storageConn:storageKey}\n",
    "    )\n",
    "        print(f\"{mountpoint} has been mounted\")\n",
    "    else:\n",
    "        print(f\"Mount point '{mountpoint}' is already mounted.\")\n",
    "except Exception as e:\n",
    "    raise e  # Re-raise the exception if mounting fails"
   ]
  },
  {
   "cell_type": "code",
   "execution_count": 0,
   "metadata": {
    "application/vnd.databricks.v1+cell": {
     "cellMetadata": {
      "byteLimit": 2048000,
      "rowLimit": 10000
     },
     "inputWidgets": {},
     "nuid": "4449edae-60c7-4782-b879-6aea05e9d817",
     "showTitle": false,
     "title": ""
    }
   },
   "outputs": [],
   "source": [
    "path = mountpoint+f\"dolar/{todays_date}/{todays_date}.parquet\""
   ]
  },
  {
   "cell_type": "code",
   "execution_count": 0,
   "metadata": {
    "application/vnd.databricks.v1+cell": {
     "cellMetadata": {
      "byteLimit": 2048000,
      "rowLimit": 10000
     },
     "inputWidgets": {},
     "nuid": "4a3182f1-8268-4218-8974-ec076b62f2b7",
     "showTitle": false,
     "title": ""
    }
   },
   "outputs": [
    {
     "output_type": "display_data",
     "data": {
      "text/html": [
       "<style scoped>\n",
       "  .table-result-container {\n",
       "    max-height: 300px;\n",
       "    overflow: auto;\n",
       "  }\n",
       "  table, th, td {\n",
       "    border: 1px solid black;\n",
       "    border-collapse: collapse;\n",
       "  }\n",
       "  th, td {\n",
       "    padding: 5px;\n",
       "  }\n",
       "  th {\n",
       "    text-align: left;\n",
       "  }\n",
       "</style><div class='table-result-container'><table class='table-result'><thead style='background-color: white'><tr><th>cotacaoCompra</th><th>cotacaoVenda</th><th>dataHoraCotacao</th></tr></thead><tbody><tr><td>5,166</td><td>5,1666</td><td>2023-10-09 13:22:11.067</td></tr></tbody></table></div>"
      ]
     },
     "metadata": {
      "application/vnd.databricks.v1+output": {
       "addedWidgets": {},
       "aggData": [],
       "aggError": "",
       "aggOverflow": false,
       "aggSchema": [],
       "aggSeriesLimitReached": false,
       "aggType": "",
       "arguments": {},
       "columnCustomDisplayInfos": {},
       "data": [
        [
         "5,166",
         "5,1666",
         "2023-10-09 13:22:11.067"
        ]
       ],
       "datasetInfos": [],
       "dbfsResultPath": null,
       "isJsonSchema": true,
       "metadata": {},
       "overflow": false,
       "plotOptions": {
        "customPlotOptions": {},
        "displayType": "table",
        "pivotAggregation": null,
        "pivotColumns": null,
        "xColumns": null,
        "yColumns": null
       },
       "removedWidgets": [],
       "schema": [
        {
         "metadata": "{}",
         "name": "cotacaoCompra",
         "type": "\"string\""
        },
        {
         "metadata": "{}",
         "name": "cotacaoVenda",
         "type": "\"string\""
        },
        {
         "metadata": "{}",
         "name": "dataHoraCotacao",
         "type": "\"string\""
        }
       ],
       "type": "table"
      }
     },
     "output_type": "display_data"
    }
   ],
   "source": [
    "df = spark.read.parquet(path)\n",
    "display(df.limit(10))"
   ]
  },
  {
   "cell_type": "markdown",
   "metadata": {
    "application/vnd.databricks.v1+cell": {
     "cellMetadata": {
      "byteLimit": 2048000,
      "rowLimit": 10000
     },
     "inputWidgets": {},
     "nuid": "a934079d-19e5-4c33-8f7e-e993e9fa1140",
     "showTitle": false,
     "title": ""
    }
   },
   "source": [
    "##2-Change Data types"
   ]
  },
  {
   "cell_type": "code",
   "execution_count": 0,
   "metadata": {
    "application/vnd.databricks.v1+cell": {
     "cellMetadata": {
      "byteLimit": 2048000,
      "rowLimit": 10000
     },
     "inputWidgets": {},
     "nuid": "b23b9338-718d-442e-8346-7ce14aa5488e",
     "showTitle": false,
     "title": ""
    }
   },
   "outputs": [
    {
     "output_type": "stream",
     "name": "stdout",
     "output_type": "stream",
     "text": [
      "root\n |-- cotacaoCompra: string (nullable = true)\n |-- cotacaoVenda: string (nullable = true)\n |-- dataHoraCotacao: string (nullable = true)\n\n"
     ]
    }
   ],
   "source": [
    "df.printSchema()"
   ]
  },
  {
   "cell_type": "code",
   "execution_count": 0,
   "metadata": {
    "application/vnd.databricks.v1+cell": {
     "cellMetadata": {
      "byteLimit": 2048000,
      "rowLimit": 10000
     },
     "inputWidgets": {},
     "nuid": "305488e1-0cde-4fb6-b654-2a77c469b6f5",
     "showTitle": false,
     "title": ""
    }
   },
   "outputs": [],
   "source": [
    "from pyspark.sql.functions import col,regexp_replace,to_timestamp"
   ]
  },
  {
   "cell_type": "code",
   "execution_count": 0,
   "metadata": {
    "application/vnd.databricks.v1+cell": {
     "cellMetadata": {
      "byteLimit": 2048000,
      "rowLimit": 10000
     },
     "inputWidgets": {},
     "nuid": "25fbc504-52d5-465b-be4f-cfa114628efe",
     "showTitle": false,
     "title": ""
    }
   },
   "outputs": [
    {
     "output_type": "display_data",
     "data": {
      "text/html": [
       "<style scoped>\n",
       "  .table-result-container {\n",
       "    max-height: 300px;\n",
       "    overflow: auto;\n",
       "  }\n",
       "  table, th, td {\n",
       "    border: 1px solid black;\n",
       "    border-collapse: collapse;\n",
       "  }\n",
       "  th, td {\n",
       "    padding: 5px;\n",
       "  }\n",
       "  th {\n",
       "    text-align: left;\n",
       "  }\n",
       "</style><div class='table-result-container'><table class='table-result'><thead style='background-color: white'><tr><th>cotacaoCompra</th><th>cotacaoVenda</th><th>dataHoraCotacao</th></tr></thead><tbody><tr><td>5.166</td><td>5.1666</td><td>2023-10-09 13:22:11.067</td></tr></tbody></table></div>"
      ]
     },
     "metadata": {
      "application/vnd.databricks.v1+output": {
       "addedWidgets": {},
       "aggData": [],
       "aggError": "",
       "aggOverflow": false,
       "aggSchema": [],
       "aggSeriesLimitReached": false,
       "aggType": "",
       "arguments": {},
       "columnCustomDisplayInfos": {},
       "data": [
        [
         5.166,
         5.1666,
         "2023-10-09 13:22:11.067"
        ]
       ],
       "datasetInfos": [],
       "dbfsResultPath": null,
       "isJsonSchema": true,
       "metadata": {},
       "overflow": false,
       "plotOptions": {
        "customPlotOptions": {},
        "displayType": "table",
        "pivotAggregation": null,
        "pivotColumns": null,
        "xColumns": null,
        "yColumns": null
       },
       "removedWidgets": [],
       "schema": [
        {
         "metadata": "{}",
         "name": "cotacaoCompra",
         "type": "\"double\""
        },
        {
         "metadata": "{}",
         "name": "cotacaoVenda",
         "type": "\"double\""
        },
        {
         "metadata": "{}",
         "name": "dataHoraCotacao",
         "type": "\"string\""
        }
       ],
       "type": "table"
      }
     },
     "output_type": "display_data"
    }
   ],
   "source": [
    "#Replace \",\" for \".\"\n",
    "replace_df = df.withColumn(\"cotacaoCompra\",regexp_replace(col(\"cotacaoCompra\"),\",\",\".\").cast(\"double\")).withColumn(\"cotacaoVenda\",regexp_replace(col(\"cotacaoVenda\"),\",\",\".\").cast(\"double\"))\n",
    "display(replace_df.limit(10))"
   ]
  },
  {
   "cell_type": "code",
   "execution_count": 0,
   "metadata": {
    "application/vnd.databricks.v1+cell": {
     "cellMetadata": {
      "byteLimit": 2048000,
      "rowLimit": 10000
     },
     "inputWidgets": {},
     "nuid": "7c74e0e2-114d-4c2a-a309-1292b7f57d1d",
     "showTitle": false,
     "title": ""
    }
   },
   "outputs": [
    {
     "output_type": "display_data",
     "data": {
      "text/html": [
       "<style scoped>\n",
       "  .table-result-container {\n",
       "    max-height: 300px;\n",
       "    overflow: auto;\n",
       "  }\n",
       "  table, th, td {\n",
       "    border: 1px solid black;\n",
       "    border-collapse: collapse;\n",
       "  }\n",
       "  th, td {\n",
       "    padding: 5px;\n",
       "  }\n",
       "  th {\n",
       "    text-align: left;\n",
       "  }\n",
       "</style><div class='table-result-container'><table class='table-result'><thead style='background-color: white'><tr><th>cotacaoCompra</th><th>cotacaoVenda</th><th>dataHoraCotacao</th></tr></thead><tbody><tr><td>5.166</td><td>5.1666</td><td>2023-10-09T13:22:11.067+0000</td></tr></tbody></table></div>"
      ]
     },
     "metadata": {
      "application/vnd.databricks.v1+output": {
       "addedWidgets": {},
       "aggData": [],
       "aggError": "",
       "aggOverflow": false,
       "aggSchema": [],
       "aggSeriesLimitReached": false,
       "aggType": "",
       "arguments": {},
       "columnCustomDisplayInfos": {},
       "data": [
        [
         5.166,
         5.1666,
         "2023-10-09T13:22:11.067+0000"
        ]
       ],
       "datasetInfos": [],
       "dbfsResultPath": null,
       "isJsonSchema": true,
       "metadata": {},
       "overflow": false,
       "plotOptions": {
        "customPlotOptions": {},
        "displayType": "table",
        "pivotAggregation": null,
        "pivotColumns": null,
        "xColumns": null,
        "yColumns": null
       },
       "removedWidgets": [],
       "schema": [
        {
         "metadata": "{}",
         "name": "cotacaoCompra",
         "type": "\"double\""
        },
        {
         "metadata": "{}",
         "name": "cotacaoVenda",
         "type": "\"double\""
        },
        {
         "metadata": "{}",
         "name": "dataHoraCotacao",
         "type": "\"timestamp\""
        }
       ],
       "type": "table"
      }
     },
     "output_type": "display_data"
    }
   ],
   "source": [
    "#Convert the data types\n",
    "new_df = replace_df.withColumn(\"dataHoraCotacao\",to_timestamp(col(\"dataHoraCotacao\"),\"yyyy-MM-dd HH:mm:ss.SSS\"))\n",
    "display(new_df.limit(10))"
   ]
  },
  {
   "cell_type": "code",
   "execution_count": 0,
   "metadata": {
    "application/vnd.databricks.v1+cell": {
     "cellMetadata": {
      "byteLimit": 2048000,
      "rowLimit": 10000
     },
     "inputWidgets": {},
     "nuid": "14e50307-d099-40cb-87df-82fbf74db4c9",
     "showTitle": false,
     "title": ""
    }
   },
   "outputs": [
    {
     "output_type": "stream",
     "name": "stdout",
     "output_type": "stream",
     "text": [
      "root\n |-- cotacaoCompra: double (nullable = true)\n |-- cotacaoVenda: double (nullable = true)\n |-- dataHoraCotacao: timestamp (nullable = true)\n\n"
     ]
    }
   ],
   "source": [
    "new_df.printSchema()"
   ]
  },
  {
   "cell_type": "markdown",
   "metadata": {
    "application/vnd.databricks.v1+cell": {
     "cellMetadata": {
      "byteLimit": 2048000,
      "rowLimit": 10000
     },
     "inputWidgets": {},
     "nuid": "380b7374-8d4d-4748-a5ee-7818c99b0ed9",
     "showTitle": false,
     "title": ""
    }
   },
   "source": [
    "##3-Ingest into the database"
   ]
  },
  {
   "cell_type": "code",
   "execution_count": 0,
   "metadata": {
    "application/vnd.databricks.v1+cell": {
     "cellMetadata": {
      "byteLimit": 2048000,
      "rowLimit": 10000
     },
     "inputWidgets": {},
     "nuid": "b38e1d3c-fc7e-4d65-9b85-9b30c9ea9890",
     "showTitle": false,
     "title": ""
    }
   },
   "outputs": [],
   "source": [
    "#Create some widgets to safely store the information from our database connection\n",
    "dbutils.widgets.text(name=\"db_scope\",defaultValue=\"\")\n",
    "dbutils.widgets.text(name=\"db_username_key\",defaultValue=\"\")\n",
    "dbutils.widgets.text(name=\"db_pass_key\",defaultValue=\"\")"
   ]
  },
  {
   "cell_type": "markdown",
   "metadata": {
    "application/vnd.databricks.v1+cell": {
     "cellMetadata": {
      "byteLimit": 2048000,
      "rowLimit": 10000
     },
     "inputWidgets": {},
     "nuid": "2736fadf-e418-426b-b583-3c3cfd89fb44",
     "showTitle": false,
     "title": ""
    }
   },
   "source": [
    "###Create a connection to the database"
   ]
  },
  {
   "cell_type": "code",
   "execution_count": 0,
   "metadata": {
    "application/vnd.databricks.v1+cell": {
     "cellMetadata": {
      "byteLimit": 2048000,
      "rowLimit": 10000
     },
     "inputWidgets": {},
     "nuid": "fe3f4d60-1bf5-42cd-92af-f623cb3cbe10",
     "showTitle": false,
     "title": ""
    }
   },
   "outputs": [],
   "source": [
    "#Get the secrets\n",
    "username = dbutils.secrets.get(scope=dbutils.widgets.get(\"db_scope\"),key=dbutils.widgets.get(\"db_user_name\"))\n",
    "password = dbutils.secrets.get(scope=dbutils.widgets.get(\"db_scope\"),key=dbutils.widgets.get(\"db_pass_key\"))\n",
    "\n",
    "jdbcUsername = username\n",
    "jdbcPassword = password\n",
    "jdbcHostname = \"srv-fab-projetos.database.windows.net\"\n",
    "jdbcPort = 1433\n",
    "jdbcDatabase = \"db-fab-projetos\"\n",
    "\n",
    "jdbcUrl = \"jdbc:sqlserver://{0}:{1};database={2}\".format(jdbcHostname, jdbcPort, jdbcDatabase)\n",
    "\n",
    "connectionProperties = {\n",
    "  \"user\" : jdbcUsername,\n",
    "  \"password\" : jdbcPassword,\n",
    "  \"driver\" : \"com.microsoft.sqlserver.jdbc.SQLServerDriver\"\n",
    "}\n",
    "\n",
    "table_name = 'sollim.dolar'"
   ]
  },
  {
   "cell_type": "markdown",
   "metadata": {
    "application/vnd.databricks.v1+cell": {
     "cellMetadata": {
      "byteLimit": 2048000,
      "rowLimit": 10000
     },
     "inputWidgets": {},
     "nuid": "4df8d6f6-13c7-4478-bcfa-f3502f04c3ea",
     "showTitle": false,
     "title": ""
    }
   },
   "source": [
    "###Ingest into the database"
   ]
  },
  {
   "cell_type": "code",
   "execution_count": 0,
   "metadata": {
    "application/vnd.databricks.v1+cell": {
     "cellMetadata": {
      "byteLimit": 2048000,
      "rowLimit": 10000
     },
     "inputWidgets": {},
     "nuid": "c40bd04a-3dd4-4ced-a75a-14b5de148918",
     "showTitle": false,
     "title": ""
    }
   },
   "outputs": [],
   "source": [
    "new_df.write.format(\"jdbc\")\\\n",
    "    .option(\"url\",jdbcUrl)\\\n",
    "    .option(\"dbtable\",table_name)\\\n",
    "    .mode(\"append\")\\\n",
    "    .options(**connectionProperties) \\\n",
    "    .save()"
   ]
  },
  {
   "cell_type": "code",
   "execution_count": 0,
   "metadata": {
    "application/vnd.databricks.v1+cell": {
     "cellMetadata": {
      "byteLimit": 2048000,
      "rowLimit": 10000
     },
     "inputWidgets": {},
     "nuid": "8d03b521-2f9e-450c-bc7a-489fc1bc09fe",
     "showTitle": false,
     "title": ""
    }
   },
   "outputs": [
    {
     "output_type": "stream",
     "name": "stdout",
     "output_type": "stream",
     "text": [
      "/mnt/ingrid-sollim/ has been unmounted.\nOut[36]: True"
     ]
    }
   ],
   "source": [
    "dbutils.fs.unmount(mountpoint)"
   ]
  }
 ],
 "metadata": {
  "application/vnd.databricks.v1+notebook": {
   "dashboards": [],
   "language": "python",
   "notebookMetadata": {
    "mostRecentlyExecutedCommandWithImplicitDF": {
     "commandId": 3746036342399535,
     "dataframes": [
      "_sqldf"
     ]
    },
    "pythonIndentUnit": 4
   },
   "notebookName": "Dolar_note_pt2",
   "widgets": {
    "Storage_Account": {
     "currentValue": "datalakefabdeprojetos",
     "nuid": "be3d9a23-b698-40d5-bf01-eac83a52c812",
     "widgetInfo": {
      "widgetType": "text",
      "defaultValue": "",
      "label": null,
      "name": "Storage_Account",
      "options": {
       "widgetType": "text",
       "validationRegex": null
      }
     }
    },
    "Storage_Key": {
     "currentValue": "kv-ingrid-sollim",
     "nuid": "af8e40d5-317c-4726-b76e-349478795deb",
     "widgetInfo": {
      "widgetType": "text",
      "defaultValue": "",
      "label": null,
      "name": "Storage_Key",
      "options": {
       "widgetType": "text",
       "validationRegex": null
      }
     }
    },
    "Storage_Scope": {
     "currentValue": "Kv-fab-de-proj-dev",
     "nuid": "9d42aace-88e2-4669-8781-21062fdf29d0",
     "widgetInfo": {
      "widgetType": "text",
      "defaultValue": "",
      "label": null,
      "name": "Storage_Scope",
      "options": {
       "widgetType": "text",
       "validationRegex": null
      }
     }
    },
    "db_pass_key": {
     "currentValue": "kv-soll-dbpass",
     "nuid": "f05fa66b-40b7-475f-9fe5-b4bfbf28cf68",
     "widgetInfo": {
      "widgetType": "text",
      "defaultValue": "",
      "label": null,
      "name": "db_pass_key",
      "options": {
       "widgetType": "text",
       "validationRegex": null
      }
     }
    },
    "db_scope": {
     "currentValue": "Kv-fab-de-proj-dev",
     "nuid": "82133b46-3f97-4b5c-94b0-847eb3e003de",
     "widgetInfo": {
      "widgetType": "text",
      "defaultValue": "",
      "label": null,
      "name": "db_scope",
      "options": {
       "widgetType": "text",
       "validationRegex": null
      }
     }
    },
    "db_user_name": {
     "currentValue": "kv-soll-dblogin",
     "nuid": "e354f371-1648-4885-aca3-c41b881bc053",
     "widgetInfo": {
      "widgetType": "text",
      "defaultValue": "",
      "label": null,
      "name": "db_user_name",
      "options": {
       "widgetType": "text",
       "validationRegex": null
      }
     }
    },
    "db_username_key": {
     "currentValue": "",
     "nuid": "ac3dcfb3-2588-4a33-b76a-ada6c4c321a2",
     "widgetInfo": {
      "widgetType": "text",
      "defaultValue": "",
      "label": null,
      "name": "db_username_key",
      "options": {
       "widgetType": "text",
       "validationRegex": null
      }
     }
    }
   }
  }
 },
 "nbformat": 4,
 "nbformat_minor": 0
}
